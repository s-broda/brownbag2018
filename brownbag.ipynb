{
 "cells": [
  {
   "cell_type": "code",
   "execution_count": 1,
   "metadata": {
    "slideshow": {
     "slide_type": "skip"
    }
   },
   "outputs": [],
   "source": [
    "using Pkg\n",
    "if !haskey(Pkg.installed(), \"Suppressor\")\n",
    "    Pkg.add(\"Suppressor\")\n",
    "end\n",
    "using Suppressor\n",
    "@suppress begin\n",
    "    Pkg.add([\"BenchmarkTools\", \"Plots\", \"MATLAB\",\n",
    "             \"MarketData\", \"TimeSeries\", \"Distributions\",\n",
    "             \"KernelDensity\", \"StatPlots\", \"ProgressMeter\",\n",
    "             \"ARCH\"])\n",
    "    pkg\"precompile\"\n",
    "end"
   ]
  },
  {
   "cell_type": "markdown",
   "metadata": {
    "slideshow": {
     "slide_type": "slide"
    }
   },
   "source": [
    "##### <p style=\"text-align: center; font-size: 300%\"> ARCH Models in Julia </p>\n",
    "<p style=\"text-align: center; font-size: 200%\"> Simon A. Broda </p>\n",
    "<p style=\"text-align: center; font-size: 100%\"> University of Zurich and University of Amsterdam <br>\n",
    "<a href=\"mailto:simon.broda@uzh.ch\">simon.broda@uzh.ch</a> </p>\n",
    "<img src=\"LOGO_ERC-FLAG_EU_.jpg\" alt=\"LOGO\" style=\"display:block; margin-left: auto; margin-right: auto; width: 20%;\">\n",
    "<p style=\"text-align: center; font-size: 100%\"> This project has received funding from the European Research Council (ERC) under the European Union's Horizon 2020 research and innovation program (grant agreement No. 750559). </p>"
   ]
  },
  {
   "cell_type": "markdown",
   "metadata": {
    "slideshow": {
     "slide_type": "slide"
    }
   },
   "source": [
    "# Following Along\n",
    "* These slides are available at https://github.com/s-broda/brownbag2018, in the form of a [Jupyter notebook](http://jupyter.org/). \n",
    "* Jupyter notebooks contain live code. Cells are evaluated by pressing `shift-enter`. \n",
    "* You can follow along without installing Julia locally by running the notebook on Google Colab (https://colab.research.google.com/; requires a Google account).\n",
    "* Julia is not officially supported on Colab yet, so we require a trick to get it to work: click on `file -> New Python 2 notebook`, paste the following into the new notebook, and execute the cell with `shift-enter`:\n",
    "```bash\n",
    "!curl -sSL \"https://julialang-s3.julialang.org/bin/linux/x64/1.0/julia-1.0.1-linux-x86_64.tar.gz\"\\\n",
    "    -o julia.tar.gz\n",
    "!tar -xzf julia.tar.gz -C /usr --strip-components 1\n",
    "!rm -rf julia.tar.gz*\n",
    "!julia -e 'using Pkg; pkg\"add IJulia; precompile\"'\n",
    "```\n",
    "* Wait for the code to execute (~ 1min), then click on `File -> Upload notebook`, choose `Github`, paste `https://github.com/s-broda/brownbag2018` into the search field, hit enter, and click on the filename once Colab has found the notebook. Optionally, click `Copy to Drive`.\n",
    "* *Important*: If you see a warning when attempting to run code, uncheck *Reset all runtimes before running* before clicking `Run anyway`, or the above procedure will need to be repeated."
   ]
  },
  {
   "cell_type": "markdown",
   "metadata": {
    "slideshow": {
     "slide_type": "slide"
    }
   },
   "source": [
    "# Outline\n",
    "* The Julia Language\n",
    "* Refresher on ARCH Models\n",
    "* The `ARCH` Package\n",
    "   * Usage\n",
    "   * Benchmarks vs. Matlab"
   ]
  },
  {
   "cell_type": "markdown",
   "metadata": {
    "slideshow": {
     "slide_type": "slide"
    }
   },
   "source": [
    "# The Julia Language\n",
    "## General Information\n",
    "* New programming language started at MIT.\n",
    "* Designed with scientific computing in mind.\n",
    "* Version 1.0 released in August 2018 after 9 years of development.\n",
    "* Free and open source software. Available at https://julialang.org/.\n",
    "* In the words of its creators,\n",
    "> We want a language that’s open source, with a liberal license. We want the speed of C with the dynamism of Ruby. We want a\n",
    "language that’s homoiconic, with true macros like Lisp, but with obvious, familiar mathematical notation like Matlab. We want\n",
    "something as usable for general programming as Python, as easy for statistics as R, as natural for string processing as Perl, as\n",
    "powerful for linear algebra as Matlab, as good at gluing programs together as the shell. Something that is dirt simple to learn,\n",
    "yet keeps the most serious hackers happy. We want it interactive and we want it compiled.\n"
   ]
  },
  {
   "cell_type": "markdown",
   "metadata": {
    "slideshow": {
     "slide_type": "slide"
    }
   },
   "source": [
    "\n",
    "## Highlights for Scientists\n",
    "* Interactive REPL (like Matlab, Python, R, etc.) allows for exploratoty analysis, rapid prototyping.\n",
    "* Unlike these, Julia is JIT compiled, hence fast (typically within 2x of C)\n",
    "* Syntax superficially similar to Matlab.\n",
    "* Rich type system, multiple dispatch.\n",
    "* Fast-growing eco-system with many state-of-the-art packages (e.g., `ForwardDiff.jl`, `DifferentialEquations.jl`, `JuMP`, ...).\n"
   ]
  },
  {
   "cell_type": "markdown",
   "metadata": {
    "slideshow": {
     "slide_type": "slide"
    }
   },
   "source": [
    "## A Small Taste of Julia"
   ]
  },
  {
   "cell_type": "markdown",
   "metadata": {},
   "source": [
    "* Let's say we want to implement a function that sums an array:"
   ]
  },
  {
   "cell_type": "code",
   "execution_count": 2,
   "metadata": {},
   "outputs": [
    {
     "data": {
      "text/plain": [
       "6"
      ]
     },
     "execution_count": 2,
     "metadata": {},
     "output_type": "execute_result"
    }
   ],
   "source": [
    "function mysum(x)\n",
    "    s = zero(eltype(x))\n",
    "    for i in x\n",
    "        s += i\n",
    "    end\n",
    "    s\n",
    "end\n",
    "mysum([1, 2, 3])"
   ]
  },
  {
   "cell_type": "code",
   "execution_count": 3,
   "metadata": {},
   "outputs": [
    {
     "data": {
      "text/plain": [
       "6.0"
      ]
     },
     "execution_count": 3,
     "metadata": {},
     "output_type": "execute_result"
    }
   ],
   "source": [
    "mysum([1., 2., 3.]) # a new method is compiled every time `mysum` is called with a new type"
   ]
  },
  {
   "cell_type": "markdown",
   "metadata": {},
   "source": [
    "* Let's benchmark it:"
   ]
  },
  {
   "cell_type": "code",
   "execution_count": 4,
   "metadata": {},
   "outputs": [],
   "source": [
    "x = randn(10^7);"
   ]
  },
  {
   "cell_type": "code",
   "execution_count": 5,
   "metadata": {},
   "outputs": [
    {
     "name": "stdout",
     "output_type": "stream",
     "text": [
      "  11.617 ms (1 allocation: 16 bytes)\n"
     ]
    }
   ],
   "source": [
    "using BenchmarkTools\n",
    "@btime mysum(x); #@btime runs the code a large number of times"
   ]
  },
  {
   "cell_type": "markdown",
   "metadata": {},
   "source": [
    "* For comparison, the built-in function:"
   ]
  },
  {
   "cell_type": "code",
   "execution_count": 6,
   "metadata": {},
   "outputs": [
    {
     "name": "stdout",
     "output_type": "stream",
     "text": [
      "  4.395 ms (1 allocation: 16 bytes)\n"
     ]
    }
   ],
   "source": [
    "@btime sum(x);"
   ]
  },
  {
   "cell_type": "markdown",
   "metadata": {
    "slideshow": {
     "slide_type": "slide"
    }
   },
   "source": [
    "* Close, but we are about 2x slower.\n",
    "* But we can do better! 2nd attempt:"
   ]
  },
  {
   "cell_type": "code",
   "execution_count": 7,
   "metadata": {},
   "outputs": [
    {
     "data": {
      "text/plain": [
       "6.0"
      ]
     },
     "execution_count": 7,
     "metadata": {},
     "output_type": "execute_result"
    }
   ],
   "source": [
    "function mysum(x)\n",
    "    s = zero(eltype(x))\n",
    "    @simd for i in x\n",
    "        s += i\n",
    "    end\n",
    "    s\n",
    "end\n",
    "mysum([1., 2., 3.])"
   ]
  },
  {
   "cell_type": "code",
   "execution_count": 8,
   "metadata": {},
   "outputs": [
    {
     "name": "stdout",
     "output_type": "stream",
     "text": [
      "  4.451 ms (1 allocation: 16 bytes)\n"
     ]
    }
   ],
   "source": [
    "@btime mysum(x);"
   ]
  },
  {
   "cell_type": "markdown",
   "metadata": {},
   "source": [
    "* Not bad: by just adding a simple decorator, we now match the speed of the built-in function!\n",
    "* This is, in fact, expected: the built-in function is implemented in Julia, like most of the standard library.\n",
    "* We can even look at the code:"
   ]
  },
  {
   "cell_type": "code",
   "execution_count": 9,
   "metadata": {},
   "outputs": [
    {
     "data": {
      "text/html": [
       "sum(a::<b>AbstractArray</b>) in Base at <a href=\"https://github.com/JuliaLang/julia/tree/5d4eaca0c9fa3d555c79dbacdccb9169fdf64b65/base/reducedim.jl#L645\" target=\"_blank\">reducedim.jl:645</a>"
      ],
      "text/plain": [
       "sum(a::AbstractArray) in Base at reducedim.jl:645"
      ]
     },
     "execution_count": 9,
     "metadata": {},
     "output_type": "execute_result"
    }
   ],
   "source": [
    "@which sum(x)"
   ]
  },
  {
   "cell_type": "markdown",
   "metadata": {
    "slideshow": {
     "slide_type": "slide"
    }
   },
   "source": [
    "# Refresher on ARCH Models\n",
    "* Daily financial returns data exhibit a number of *stylized facts*:\n",
    "  * Volatility clustering\n",
    "  * Non-Gaussianity, fat tails\n",
    "  * Leverage effects: negative returns increase future volatility\n",
    "* Other types of data (e.g., changes in interest rates) exhibit similar phenomena.\n",
    "* These effects are important in many areas in finance, in particular in risk management.\n",
    "* [G]ARCH ([**G**eneralized] **A**utoregressive **C**onditional **V**olatility) models are the most popular for modelling them."
   ]
  },
  {
   "cell_type": "markdown",
   "metadata": {
    "slideshow": {
     "slide_type": "slide"
    }
   },
   "source": [
    "## Example: volatility clustering in AAPL returns\n",
    "* The `MarketData` package contains several historial datasets. "
   ]
  },
  {
   "cell_type": "code",
   "execution_count": 10,
   "metadata": {
    "slideshow": {
     "slide_type": "-"
    }
   },
   "outputs": [],
   "source": [
    "using MarketData, TimeSeries\n",
    "r = percentchange(MarketData.AAPL[Symbol(\"Adj. Close\")]) # returns a TimeSeries\n",
    "data = values(r) # an array containing just the plain data\n",
    "\n",
    "if !isfile(\"returns.svg\") || !isfile(\"kde.svg\")\n",
    "    using Plots, Distributions, KernelDensity, StatPlots\n",
    "    plot(r, title=\"Volatility Clustering\", legend=:none, ylabel=\"\\$r_t\\$\")\n",
    "    savefig(\"returns.svg\")\n",
    "    plot(kde(data), label=\"Kernel Density\", title=\"Fat Tails\")\n",
    "    plot!(fit(Normal, data), label=\"Fitted Normal\")\n",
    "    savefig(\"kde.svg\")\n",
    "end"
   ]
  },
  {
   "cell_type": "markdown",
   "metadata": {
    "slideshow": {
     "slide_type": "slide"
    }
   },
   "source": [
    "<img src=\"returns.svg\" alt=\"RETURNS\" style=\"display:block; margin-left: auto; margin-right: auto; width: 50%;\">"
   ]
  },
  {
   "cell_type": "markdown",
   "metadata": {
    "slideshow": {
     "slide_type": "slide"
    }
   },
   "source": [
    "<img src=\"kde.svg\" alt=\"Kernel Density\" style=\"display:block; margin-left: auto; margin-right: auto; width: 50%;\">"
   ]
  },
  {
   "cell_type": "markdown",
   "metadata": {
    "slideshow": {
     "slide_type": "slide"
    }
   },
   "source": [
    "\n",
    "\n",
    "## (G)ARCH Models\n",
    "* Basic setup: given a sample of financial returns $\\{r_t\\}_{t\\in\\{1,\\ldots,T\\}}$, decompose $r_t$ as\n",
    "$$\n",
    "r_t=\\mu_t+\\sigma_tz_t, \\quad z_t\\stackrel{i.i.d.}{\\sim}(0,1),\n",
    "$$\n",
    "where $\\mu_t\\equiv\\mathbb{E}[r_t\\mid \\mathcal{F}_{t-1}]$ and $\\sigma_t^2\\equiv \\mathbb{E}[(r_t-\\mu_t)^2\\mid \\mathcal{F}_{t-1}]$.\n",
    "* Assume $\\mu_t=0$ for simplicity. Focus is on the *volatility* $\\sigma_t$. G(ARCH) models make $\\sigma_t$ a function of *past* returns and variances. Examples: "
   ]
  },
  {
   "cell_type": "markdown",
   "metadata": {
    "slideshow": {
     "slide_type": "slide"
    }
   },
   "source": [
    "## Examples\n",
    "* ARCH(q) (Engle, Econometrica 1982):\n",
    "$$\\sigma_t^2=\\omega+\\sum_{i=1}^q \\alpha_ir_{t-i}^2%,\\quad \\omega,\\alpha_i>0,\\quad \\sum_{i=1}^q\\alpha_i<1.\n",
    "$$\n",
    "* GARCH(p, q) (Bollerslev, JoE 1986)\n",
    "$$\\sigma_t^2=\\omega+ \\sum_{i=1}^p\\beta_{i}\\sigma_{t-i}^2 + \\sum_{i=1}^q\\alpha_ir_{t-i}^2%,\\quad \\omega,\\alpha_i,\\beta_i>0,\\quad \\sum_{i=1}^{\\max p,q} \\alpha_i+\\beta_i<1.\n",
    "$$\n",
    "* EGARCH(o, p, q) (Nelson, Econometrica 1991)\n",
    "$$\\log(\\sigma_t^2)=\\omega+\\sum_{i=1}^o\\gamma_{i}z_{t-i}+\\sum_{i=1}^p\\beta_i\\log(\\sigma_{t-i}^2)+\\sum_{i=1}^q \\alpha_i (|z_t|-\\mathbb{E}|z_t|)%, \\quad \\sum_{i=1}^p \\beta_i<0.\n",
    "$$\n",
    " \n",
    "  \n",
    "\n"
   ]
  },
  {
   "cell_type": "markdown",
   "metadata": {
    "slideshow": {
     "slide_type": "slide"
    }
   },
   "source": [
    "## Estimation\n",
    "* G(ARCH) models are usually estimated by maximum likelihood: with $f_z$ denoting the density of $z_t$,\n",
    "$$\\max \\sum_t \\log f(r_t\\mid \\mathcal{F}_{t-1})=\\max \\sum_t \\log f_z(r_t/\\sigma_t)-\\log \\sigma_t.$$\n",
    "* Recursive nature of $\\sigma_t$ means the computation cannot be \"vectorized\" $\\Rightarrow$ loops.\n",
    "* Julia is very well suited for this. Matlab (and the `rugarch` package for Python) have to implement the likelihood in C.\n",
    "\n"
   ]
  },
  {
   "cell_type": "markdown",
   "metadata": {
    "slideshow": {
     "slide_type": "slide"
    }
   },
   "source": [
    "# The `ARCH` Package\n",
    "## Installation\n",
    "* `ARCH.jl` is available at https://github.com/s-broda/ARCH.jl. \n",
    "*  Extensive documentation available at https://s-broda.github.io/ARCH.jl/dev/.\n",
    "* `ARCH.jl` is not a registered Julia package yet. To install it in Julia 1.0 or later, do"
   ]
  },
  {
   "cell_type": "code",
   "execution_count": 11,
   "metadata": {},
   "outputs": [],
   "source": [
    "if !haskey(Pkg.installed(), \"ARCH\")\n",
    "    Pkg.add(PackageSpec(url=\"https://github.com/s-broda/ARCH.jl\"))\n",
    "end"
   ]
  },
  {
   "cell_type": "markdown",
   "metadata": {
    "slideshow": {
     "slide_type": "slide"
    }
   },
   "source": [
    "## Key Features\n",
    "* Supports simulating, estimating, forecasting, and backtesting ARCH models.\n",
    "* Currently: ARCH, GARCH, TGARCH, and EGARCH models of arbitrary orders, with Gaussian, Student's $t$, and GED errors.\n",
    "* Entirely written in Julia.\n",
    "* Designed to be easily extensible with new models and distributions.\n",
    "* Gradients and Hessians (for both numerical maximization of the likelihood and constructing standard errors) are obtained by [automatic differentiation](http://www.autodiff.org/?module=Introduction) via `ForwardDiff.jl`."
   ]
  },
  {
   "cell_type": "markdown",
   "metadata": {
    "slideshow": {
     "slide_type": "slide"
    }
   },
   "source": [
    "## Usage"
   ]
  },
  {
   "cell_type": "markdown",
   "metadata": {},
   "source": [
    "* The first step in building an ARCH model is usually to test for the presence of volatility clustering.\n",
    "* `ARCH.jl` provides [Engle's (Econometrica 1982)](https://doi.org/10.2307/1912773) ARCH-LM test for this.\n",
    "* The null is that $\\gamma_i=0$ in the auxiliary regression\n",
    "$$\n",
    "r_t^2=\\alpha+\\gamma_1 r_{t-1}^2+\\gamma_2 r_{t-2}^2+\\cdots+\\gamma_p r_{t-p}^2+\\epsilon_t.\n",
    "$$"
   ]
  },
  {
   "cell_type": "code",
   "execution_count": 12,
   "metadata": {},
   "outputs": [
    {
     "data": {
      "text/plain": [
       "ARCH LM test for conditional heteroskedasticity\n",
       "-----------------------------------------------\n",
       "Population details:\n",
       "    parameter of interest:   T⋅R² in auxiliary regression of rₜ² on an intercept and its own lags\n",
       "    value under h_0:         0\n",
       "    point estimate:          102.70507547678012\n",
       "\n",
       "Test summary:\n",
       "    outcome with 95% confidence: reject h_0\n",
       "    p-value:                     <1e-20\n",
       "\n",
       "Details:\n",
       "    sample size:                    8335\n",
       "    number of lags:                 4\n",
       "    LM statistic:                   102.70507547678012\n"
      ]
     },
     "execution_count": 12,
     "metadata": {},
     "output_type": "execute_result"
    }
   ],
   "source": [
    "using ARCH\n",
    "ARCHLMTest(data, 4) # p=4 lags"
   ]
  },
  {
   "cell_type": "markdown",
   "metadata": {},
   "source": [
    "* Unsurprisingly, the test rejects."
   ]
  },
  {
   "cell_type": "markdown",
   "metadata": {
    "slideshow": {
     "slide_type": "slide"
    }
   },
   "source": [
    "* Fitting a GARCH model is as simple as"
   ]
  },
  {
   "cell_type": "code",
   "execution_count": 13,
   "metadata": {},
   "outputs": [
    {
     "data": {
      "text/plain": [
       "\n",
       "GARCH{1,1} model with Gaussian errors, T=8335.\n",
       "\n",
       "\n",
       "Mean equation parameters:\n",
       "\n",
       "       Estimate   Std.Error z value Pr(>|z|)\n",
       "μ    0.00188447 0.000310897 6.06138    <1e-8\n",
       "\n",
       "Volatility parameters:\n",
       "\n",
       "       Estimate  Std.Error z value Pr(>|z|)\n",
       "ω    9.75917e-6 7.20954e-6 1.35365   0.1758\n",
       "β₁     0.929442  0.0309706 30.0104   <1e-99\n",
       "α₁    0.0636943  0.0268269 2.37427   0.0176\n",
       "\n"
      ]
     },
     "execution_count": 13,
     "metadata": {},
     "output_type": "execute_result"
    }
   ],
   "source": [
    "model = fit(GARCH{1, 1}, data)"
   ]
  },
  {
   "cell_type": "markdown",
   "metadata": {},
   "source": [
    "* Alternatively, the (multithreaded!) `selectmodel` method does automatic model selection (i.e., chooses $p$ and $q$ by minimizing the AIC/AICC/BICC)."
   ]
  },
  {
   "cell_type": "code",
   "execution_count": 14,
   "metadata": {
    "slideshow": {
     "slide_type": "-"
    }
   },
   "outputs": [
    {
     "data": {
      "text/plain": [
       "\n",
       "GARCH{2,1} model with Gaussian errors, T=8335.\n",
       "\n",
       "\n",
       "Mean equation parameters:\n",
       "\n",
       "       Estimate   Std.Error z value Pr(>|z|)\n",
       "μ    0.00184854 0.000305871 6.04354    <1e-8\n",
       "\n",
       "Volatility parameters:\n",
       "\n",
       "       Estimate  Std.Error z value Pr(>|z|)\n",
       "ω    1.38392e-5 9.53439e-6 1.45151   0.1466\n",
       "β₁     0.379911   0.106348 3.57232   0.0004\n",
       "β₂     0.516406   0.103062 5.01062    <1e-6\n",
       "α₁    0.0940149  0.0359409 2.61582   0.0089\n",
       "\n"
      ]
     },
     "execution_count": 14,
     "metadata": {},
     "output_type": "execute_result"
    }
   ],
   "source": [
    "model2 = selectmodel(GARCH, data; maxlags=3, criterion=bic) # optional keyword arguments"
   ]
  },
  {
   "cell_type": "markdown",
   "metadata": {
    "slideshow": {
     "slide_type": "slide"
    }
   },
   "source": [
    "* The return value is of type `ARCHModel`:"
   ]
  },
  {
   "cell_type": "code",
   "execution_count": 15,
   "metadata": {},
   "outputs": [
    {
     "data": {
      "text/plain": [
       "ARCHModel{Float64,GARCH{1,1,Float64},StdNormal{Float64},Intercept{Float64}}"
      ]
     },
     "execution_count": 15,
     "metadata": {},
     "output_type": "execute_result"
    }
   ],
   "source": [
    "typeof(model)"
   ]
  },
  {
   "cell_type": "markdown",
   "metadata": {},
   "source": [
    "* `ARCHModel` supports many useful methods, such as \n",
    " `confint`, `aic`, `bic`, `aicc`, `informationmatrix`, `score`, `vcov`:\n"
   ]
  },
  {
   "cell_type": "code",
   "execution_count": 16,
   "metadata": {},
   "outputs": [
    {
     "data": {
      "text/plain": [
       "-35866.1305913175"
      ]
     },
     "execution_count": 16,
     "metadata": {},
     "output_type": "execute_result"
    }
   ],
   "source": [
    "aic(model)"
   ]
  },
  {
   "cell_type": "markdown",
   "metadata": {
    "slideshow": {
     "slide_type": "-"
    }
   },
   "source": [
    "* An ARCHModel essentially consists of a volatility specification (of type `VolatilitySpec`),\n",
    "an error distribution (of type `StandardizedDistribution`), and a mean specification (of type `MeanSpec`).\n",
    "* The following are currently implemented:"
   ]
  },
  {
   "cell_type": "code",
   "execution_count": 17,
   "metadata": {},
   "outputs": [
    {
     "name": "stdout",
     "output_type": "stream",
     "text": [
      "EGARCH GARCH TGARCH "
     ]
    }
   ],
   "source": [
    "print.(string.(subtypes(VolatilitySpec)) .* \" \");"
   ]
  },
  {
   "cell_type": "code",
   "execution_count": 18,
   "metadata": {},
   "outputs": [
    {
     "name": "stdout",
     "output_type": "stream",
     "text": [
      "StdGED StdNormal StdT "
     ]
    }
   ],
   "source": [
    "print.(string.(subtypes(StandardizedDistribution))[2:end] .* \" \");"
   ]
  },
  {
   "cell_type": "code",
   "execution_count": 19,
   "metadata": {},
   "outputs": [
    {
     "name": "stdout",
     "output_type": "stream",
     "text": [
      "Intercept NoIntercept "
     ]
    }
   ],
   "source": [
    "print.(string.(subtypes(MeanSpec)).* \" \");"
   ]
  },
  {
   "cell_type": "markdown",
   "metadata": {
    "slideshow": {
     "slide_type": "slide"
    }
   },
   "source": [
    "* We can use these to construct an ARCHModel manually:"
   ]
  },
  {
   "cell_type": "code",
   "execution_count": 20,
   "metadata": {},
   "outputs": [
    {
     "data": {
      "text/plain": [
       "\n",
       "EGARCH{1,1,1} model with Student's t errors, T=10000.\n",
       "\n",
       "\n",
       "                              ω   γ₁   β₁   α₁\n",
       "Volatility parameters:     0.02 0.09 0.83 0.01\n",
       "\n",
       "                             ν\n",
       "Distribution parameters:   4.0\n",
       "\n"
      ]
     },
     "execution_count": 20,
     "metadata": {},
     "output_type": "execute_result"
    }
   ],
   "source": [
    "T = 10^4\n",
    "mydata = zeros(T)\n",
    "volaspec = EGARCH{1, 1, 1}([0.02, .09, .83, .01])\n",
    "using Random; Random.seed!(1)\n",
    "mymodel = ARCHModel(volaspec, mydata; dist=StdT(4.)) # dist is an optional keyword argument"
   ]
  },
  {
   "cell_type": "markdown",
   "metadata": {
    "slideshow": {
     "slide_type": "slide"
    }
   },
   "source": [
    "* With an `ARCHModel` in hand, we can do things like"
   ]
  },
  {
   "cell_type": "code",
   "execution_count": 21,
   "metadata": {},
   "outputs": [
    {
     "data": {
      "text/plain": [
       "\n",
       "EGARCH{1,1,1} model with Student's t errors, T=10000.\n",
       "\n",
       "\n",
       "                              ω   γ₁   β₁   α₁\n",
       "Volatility parameters:     0.02 0.09 0.83 0.01\n",
       "\n",
       "                             ν\n",
       "Distribution parameters:   4.0\n",
       "\n"
      ]
     },
     "execution_count": 21,
     "metadata": {},
     "output_type": "execute_result"
    }
   ],
   "source": [
    "simulate!(mymodel) # by convention, the bang indicates that the method modifies its argument"
   ]
  },
  {
   "cell_type": "code",
   "execution_count": 22,
   "metadata": {},
   "outputs": [
    {
     "data": {
      "text/plain": [
       "\n",
       "EGARCH{1,1,1} model with Student's t errors, T=10000.\n",
       "\n",
       "\n",
       "Volatility parameters:\n",
       "\n",
       "        Estimate  Std.Error  z value Pr(>|z|)\n",
       "ω      0.0274054 0.00733817  3.73464   0.0002\n",
       "γ₁      0.113959  0.0131327  8.67753   <1e-17\n",
       "β₁      0.811765  0.0244774  33.1638   <1e-99\n",
       "α₁   -0.00637894  0.0153358 -0.41595   0.6774\n",
       "\n",
       "Distribution parameters:\n",
       "\n",
       "     Estimate Std.Error z value Pr(>|z|)\n",
       "ν     3.83768  0.152659  25.139   <1e-99\n",
       "\n"
      ]
     },
     "execution_count": 22,
     "metadata": {},
     "output_type": "execute_result"
    }
   ],
   "source": [
    "fit!(mymodel)"
   ]
  },
  {
   "cell_type": "code",
   "execution_count": 23,
   "metadata": {
    "slideshow": {
     "slide_type": "slide"
    }
   },
   "outputs": [
    {
     "data": {
      "text/plain": [
       "ARCH LM test for conditional heteroskedasticity\n",
       "-----------------------------------------------\n",
       "Population details:\n",
       "    parameter of interest:   T⋅R² in auxiliary regression of rₜ² on an intercept and its own lags\n",
       "    value under h_0:         0\n",
       "    point estimate:          0.08739963833992448\n",
       "\n",
       "Test summary:\n",
       "    outcome with 95% confidence: fail to reject h_0\n",
       "    p-value:                     0.7675\n",
       "\n",
       "Details:\n",
       "    sample size:                    10000\n",
       "    number of lags:                 1\n",
       "    LM statistic:                   0.08739963833992448\n"
      ]
     },
     "execution_count": 23,
     "metadata": {},
     "output_type": "execute_result"
    }
   ],
   "source": [
    "ARCHLMTest(mymodel) # tests the standardized residuals"
   ]
  },
  {
   "cell_type": "code",
   "execution_count": 24,
   "metadata": {},
   "outputs": [
    {
     "data": {
      "text/plain": [
       "0.958298864614992"
      ]
     },
     "execution_count": 24,
     "metadata": {},
     "output_type": "execute_result"
    }
   ],
   "source": [
    "predict(mymodel, :volatility) # (:volatility | :variance | :return | :VaR)"
   ]
  },
  {
   "cell_type": "markdown",
   "metadata": {
    "slideshow": {
     "slide_type": "slide"
    }
   },
   "source": [
    "## Value at Risk"
   ]
  },
  {
   "cell_type": "markdown",
   "metadata": {},
   "source": [
    "* In-sample Value-at-Risk estimates are available via the `VaRs` function"
   ]
  },
  {
   "cell_type": "code",
   "execution_count": 25,
   "metadata": {
    "slideshow": {
     "slide_type": "-"
    }
   },
   "outputs": [],
   "source": [
    "model = fit(GARCH{1, 1}, data)\n",
    "vars = VaRs(model, 0.05)\n",
    "\n",
    "if !isfile(\"VaRplot.svg\")\n",
    "    using Plots\n",
    "    plot(-data, legend=:none, xlabel=\"\\$t\\$\", ylabel=\"\\$-r_t\\$\", title=\"Value at Risk, In-Sample\")\n",
    "    plot!(vars, color=:purple)\n",
    "    savefig(\"VaRplot.svg\"); \n",
    "end"
   ]
  },
  {
   "cell_type": "markdown",
   "metadata": {
    "slideshow": {
     "slide_type": "slide"
    }
   },
   "source": [
    "<img src=\"VaRplot.svg\" alt=\"VALUE AT RISK\" style=\"display:block; margin-left: auto; margin-right: auto; width: 50%;\">"
   ]
  },
  {
   "cell_type": "markdown",
   "metadata": {
    "slideshow": {
     "slide_type": "slide"
    }
   },
   "source": [
    "* How about out-of-sample (backtesting)?\n",
    "* Requires re-estimating the model at each time step.\n",
    "* Not built in, but easy to do:"
   ]
  },
  {
   "cell_type": "code",
   "execution_count": 26,
   "metadata": {
    "slideshow": {
     "slide_type": "-"
    }
   },
   "outputs": [
    {
     "name": "stderr",
     "output_type": "stream",
     "text": [
      "\u001b[32mFitting 7334 GARCH models: 100%|████████████████████████| Time: 0:00:20\u001b[39m\n"
     ]
    }
   ],
   "source": [
    "using ProgressMeter\n",
    "\n",
    "T = length(data)\n",
    "windowsize = 1000\n",
    "vars = similar(data); fill!(vars, NaN)\n",
    "@showprogress \"Fitting $(T-1-windowsize) GARCH models: \" for t = windowsize+1:T-1\n",
    "    m = fit(GARCH{1, 1}, data[t-windowsize:t])\n",
    "    vars[t+1] = predict(m, :VaR; level=0.05)    \n",
    "end\n",
    "\n",
    "if !isfile(\"VaRplot_oos.svg\")\n",
    "    using Plots\n",
    "    plot(-data, legend=:none, xlabel=\"\\$t\\$\", ylabel=\"\\$-r_t\\$\", title=\"Value at Risk, Out-of-Sample\")\n",
    "    plot!(vars, color=:purple)\n",
    "    savefig(\"VaRplot_oos.svg\"); \n",
    "end"
   ]
  },
  {
   "cell_type": "markdown",
   "metadata": {
    "slideshow": {
     "slide_type": "slide"
    }
   },
   "source": [
    "<img src=\"VaRplot_oos.svg\" alt=\"VALUE AT RISK OUT OF SAMPLE\" style=\"display:block; margin-left: auto; margin-right: auto; width: 50%;\">"
   ]
  },
  {
   "cell_type": "markdown",
   "metadata": {
    "slideshow": {
     "slide_type": "slide"
    }
   },
   "source": [
    "* We can backtest these out-of-sample VaR predictions using Engle and Manganelli's (2004) dynamic quantile test.\n",
    "* The test is based on a *hit series* \n",
    "$$I_t\\equiv\\cases{1, r_t<-VaR_t\\\\0, \\mbox{otherwise.}}$$\n",
    "* The null is that $\\alpha=\\beta=\\gamma=0$ in the auxiliary regression\n",
    "$$\n",
    "I_t-0.05 = \\alpha +\\beta I_{t-1} + \\gamma VaR_t+\\epsilon_t.\n",
    "$$"
   ]
  },
  {
   "cell_type": "code",
   "execution_count": 27,
   "metadata": {
    "slideshow": {
     "slide_type": "slide"
    }
   },
   "outputs": [
    {
     "data": {
      "text/plain": [
       "Engle and Manganelli's (2004) DQ test (out of sample)\n",
       "-----------------------------------------------------\n",
       "Population details:\n",
       "    parameter of interest:   Wald statistic in auxiliary regression\n",
       "    value under h_0:         0\n",
       "    point estimate:          53.71639796837963\n",
       "\n",
       "Test summary:\n",
       "    outcome with 95% confidence: reject h_0\n",
       "    p-value:                     <1e-10\n",
       "\n",
       "Details:\n",
       "    sample size:                    7335\n",
       "    number of lags:                 1\n",
       "    VaR level:                      0.05\n",
       "    DQ statistic:                   53.71639796837963\n"
      ]
     },
     "execution_count": 27,
     "metadata": {},
     "output_type": "execute_result"
    }
   ],
   "source": [
    "DQTest(data[windowsize+1:end], vars[windowsize+1:end], 0.05)"
   ]
  },
  {
   "cell_type": "markdown",
   "metadata": {
    "slideshow": {
     "slide_type": "slide"
    }
   },
   "source": [
    "# Benchmarks\n",
    "  * Bollerslev and Ghysels (JBES 1996) data is de facto standard in comparing implementations of GARCH models.\n",
    "  * Data consist of daily German mark/British pound exchange rates (1974 observations).\n",
    "  * Available in `ARCH.jl` as the constant `BG96`."
   ]
  },
  {
   "cell_type": "code",
   "execution_count": 28,
   "metadata": {
    "slideshow": {
     "slide_type": "skip"
    }
   },
   "outputs": [],
   "source": [
    "if !isfile(\"DMGBP.svg\")\n",
    "    using Plots\n",
    "    plot(BG96, legend=:none, title=\"Bollerslev and Ghysels (1996) Data\", ylabel=\"\\$r_t\\$\", xlabel=\"\\$t\\$\")\n",
    "    savefig(\"DMGBP.svg\")\n",
    "end"
   ]
  },
  {
   "cell_type": "markdown",
   "metadata": {
    "slideshow": {
     "slide_type": "slide"
    }
   },
   "source": [
    "<img src=\"DMGBP.svg\" alt=\"Bollerslev and Ghysels (1996) data\" style=\"display:block; margin-left: auto; margin-right: auto; width: 50%;\">"
   ]
  },
  {
   "cell_type": "markdown",
   "metadata": {
    "slideshow": {
     "slide_type": "slide"
    }
   },
   "source": [
    "## GARCH\n",
    "* Fitting in Julia:"
   ]
  },
  {
   "cell_type": "code",
   "execution_count": 29,
   "metadata": {
    "slideshow": {
     "slide_type": "-"
    }
   },
   "outputs": [
    {
     "name": "stdout",
     "output_type": "stream",
     "text": [
      "  2.736 ms (1720 allocations: 344.88 KiB)\n"
     ]
    },
    {
     "data": {
      "text/plain": [
       "\n",
       "GARCH{1,1} model with Gaussian errors, T=1974.\n",
       "\n",
       "\n",
       "Volatility parameters:\n",
       "\n",
       "      Estimate  Std.Error z value Pr(>|z|)\n",
       "ω    0.0108661 0.00657449 1.65277   0.0984\n",
       "β₁    0.804431  0.0730395 11.0136   <1e-27\n",
       "α₁    0.154597  0.0539319 2.86651   0.0042\n",
       "\n"
      ]
     },
     "execution_count": 29,
     "metadata": {},
     "output_type": "execute_result"
    }
   ],
   "source": [
    "@btime fit(GARCH{1, 1}, $BG96, meanspec=NoIntercept)  # Matlab doesn't use an intercept, so let's not, either"
   ]
  },
  {
   "cell_type": "markdown",
   "metadata": {
    "slideshow": {
     "slide_type": "slide"
    }
   },
   "source": [
    "* Now Matlab:"
   ]
  },
  {
   "cell_type": "code",
   "execution_count": 30,
   "metadata": {},
   "outputs": [
    {
     "data": {
      "text/plain": [
       "\"9.4.0.813654 (R2018a)\""
      ]
     },
     "execution_count": 30,
     "metadata": {},
     "output_type": "execute_result"
    }
   ],
   "source": [
    "using MATLAB\n",
    "mat\"version\""
   ]
  },
  {
   "cell_type": "code",
   "execution_count": 50,
   "metadata": {},
   "outputs": [
    {
     "name": "stdout",
     "output_type": "stream",
     "text": [
      " \n",
      "    GARCH(1,1) Conditional Variance Model (Gaussian Distribution):\n",
      " \n",
      "                 Value      StandardError    TStatistic      PValue  \n",
      "                ________    _____________    __________    __________\n",
      "\n",
      "    Constant    0.010868      0.0012972        8.3779      5.3896e-17\n",
      "    GARCH{1}     0.80452       0.016038        50.162               0\n",
      "    ARCH{1}      0.15433       0.013852        11.141      7.9448e-29\n",
      "\n",
      "Elapsed time is 0.070031 seconds.\n"
     ]
    }
   ],
   "source": [
    "# run this cell a few times to give Matlab a fair chance\n",
    "mat\"tic; estimate(garch(1, 1), $BG96); toc; 0\";"
   ]
  },
  {
   "cell_type": "markdown",
   "metadata": {
    "slideshow": {
     "slide_type": "-"
    }
   },
   "source": [
    "* ARCH.jl is faster by a factor of about 20-30, depending on the machine, despite Matlab calling into compiled C code.\n",
    "* Estimates are quite similar, but standard errors and $t$-statistics differ.\n",
    "* So which standard errors are correct? Let's compare with the results from Brooks et. al. (Int. J. Fcst. 2001)."
   ]
  },
  {
   "cell_type": "markdown",
   "metadata": {
    "slideshow": {
     "slide_type": "slide"
    }
   },
   "source": [
    "* Brooks et. al. compare implementations of the GARCH(1, 1) model. They use a model with intercept, so let’s re-estimate in Julia (Matlab doesn't seem to allow this):"
   ]
  },
  {
   "cell_type": "code",
   "execution_count": 32,
   "metadata": {
    "slideshow": {
     "slide_type": "-"
    }
   },
   "outputs": [
    {
     "data": {
      "text/plain": [
       "\n",
       "GARCH{1,1} model with Gaussian errors, T=1974.\n",
       "\n",
       "\n",
       "Mean equation parameters:\n",
       "\n",
       "        Estimate  Std.Error   z value Pr(>|z|)\n",
       "μ    -0.00616637 0.00920163 -0.670139   0.5028\n",
       "\n",
       "Volatility parameters:\n",
       "\n",
       "      Estimate  Std.Error z value Pr(>|z|)\n",
       "ω    0.0107606 0.00649493 1.65677   0.0976\n",
       "β₁    0.805875  0.0725003 11.1155   <1e-27\n",
       "α₁    0.153411  0.0536586 2.85903   0.0042\n",
       "\n"
      ]
     },
     "execution_count": 32,
     "metadata": {},
     "output_type": "execute_result"
    }
   ],
   "source": [
    "fit(GARCH{1, 1}, BG96)"
   ]
  },
  {
   "cell_type": "markdown",
   "metadata": {},
   "source": [
    "* Brooks et. al. give the estimates (**$t$-stats**)\n",
    "$\\mu=−0.00619$ $(\\mathbf{−0.67})$, $\\omega=0.0108$ $(\\mathbf{1.66})$, $\\beta_1=0.806$ $(\\mathbf{11.11})$, $\\alpha_1=0.153$ $(\\mathbf{2.86})$. Dead on!"
   ]
  },
  {
   "cell_type": "markdown",
   "metadata": {
    "slideshow": {
     "slide_type": "slide"
    }
   },
   "source": [
    "## EGARCH\n",
    "* Julia:"
   ]
  },
  {
   "cell_type": "code",
   "execution_count": 33,
   "metadata": {},
   "outputs": [
    {
     "name": "stdout",
     "output_type": "stream",
     "text": [
      "  4.670 ms (2030 allocations: 414.27 KiB)\n"
     ]
    },
    {
     "data": {
      "text/plain": [
       "\n",
       "EGARCH{1,1,1} model with Gaussian errors, T=1974.\n",
       "\n",
       "\n",
       "Volatility parameters:\n",
       "\n",
       "      Estimate Std.Error  z value Pr(>|z|)\n",
       "ω    -0.128026 0.0518431 -2.46948   0.0135\n",
       "γ₁   -0.032216 0.0255372 -1.26153   0.2071\n",
       "β₁    0.911947 0.0331381  27.5196   <1e-99\n",
       "α₁    0.333243  0.070109  4.75321    <1e-5\n",
       "\n"
      ]
     },
     "execution_count": 33,
     "metadata": {},
     "output_type": "execute_result"
    }
   ],
   "source": [
    "@btime fit(EGARCH{1, 1, 1}, $BG96, meanspec=NoIntercept)"
   ]
  },
  {
   "cell_type": "markdown",
   "metadata": {
    "slideshow": {
     "slide_type": "slide"
    }
   },
   "source": [
    "* Matlab:"
   ]
  },
  {
   "cell_type": "code",
   "execution_count": 54,
   "metadata": {},
   "outputs": [
    {
     "name": "stdout",
     "output_type": "stream",
     "text": [
      " \n",
      "    EGARCH(1,1) Conditional Variance Model (Gaussian Distribution):\n",
      " \n",
      "                     Value      StandardError    TStatistic      PValue  \n",
      "                   _________    _____________    __________    __________\n",
      "\n",
      "    Constant         -0.1283       0.015788       -8.1267      4.4118e-16\n",
      "    GARCH{1}         0.91186      0.0084535        107.87               0\n",
      "    ARCH{1}          0.33317       0.021769        15.305      7.1324e-53\n",
      "    Leverage{1}    -0.032252       0.012564        -2.567        0.010258\n",
      "\n",
      "Elapsed time is 0.109377 seconds.\n"
     ]
    }
   ],
   "source": [
    "mat\"tic; estimate(egarch(1, 1), $BG96); toc; 0\";  # Matlab sets o=q"
   ]
  },
  {
   "cell_type": "markdown",
   "metadata": {},
   "source": [
    "* Brooks et. al. give no benchmark results. But again, Julia is faster by a factor of about 20."
   ]
  },
  {
   "cell_type": "markdown",
   "metadata": {
    "slideshow": {
     "slide_type": "slide"
    }
   },
   "source": [
    "#  TODO\n",
    "* More distributions (NIG, $\\alpha$-Stable, ...)\n",
    "* More GARCH models (APARCH, RiskMetrics, IGARCH, ...)\n",
    "* Multivariate GARCH\n"
   ]
  },
  {
   "cell_type": "markdown",
   "metadata": {
    "slideshow": {
     "slide_type": "slide"
    }
   },
   "source": [
    "# References\n",
    "* Bollerslev, T (1986). Generalized autoregressive conditional heteroskedasticity. *Journal of Econometrics* **31**, 307–327.\n",
    "* Bollerslev, T. & Ghysels, E. (1996). Periodic Autoregressive Conditional Heteroscedasticity. *Journal of Business & Economic Statistics* **14**, 139-151. https://doi.org/10.1080/07350015.1996.10524640.\n",
    "* Brooks, C., Burke, S. P., & Persand, G. (2001). Benchmarks and the accuracy of GARCH model estimation. *International Journal of Forecasting* **17**, 45-56. https://doi.org/10.1016/S0169-2070(00)00070-4.\n",
    "* Engle, R. F. (1982). Autoregressive Conditional Heteroscedasticity with Estimates of the Variance of United Kingdom Inflation. *Econometrica* **50**, 987-1007. https://doi.org/10.2307/1912773.\n",
    "* Engle, R. F., and Manganelli, S. (2004). CAViaR: Conditional Autoregressive Value at Risk by Regression Quantiles. *Journal of Business & Economic Statistics* **22**, 367-381. https://doi.org/10.1198/073500104000000370\n",
    "* Nelson, D.B. (1991). Conditional Heteroskedasticity in Asset Returns: A New Approach. *Econometrica* **59**, 347--370. https://doi.org/10.2307/2938260.\n",
    "\n"
   ]
  }
 ],
 "metadata": {
  "celltoolbar": "Slideshow",
  "kernelspec": {
   "display_name": "Julia 1.0.0",
   "language": "julia",
   "name": "julia-1.0"
  },
  "language_info": {
   "file_extension": ".jl",
   "mimetype": "application/julia",
   "name": "julia",
   "version": "1.0.0"
  },
  "livereveal": {
   "auto_select": "code",
   "auto_select_fragment": true,
   "start_slideshow_at": "selected"
  }
 },
 "nbformat": 4,
 "nbformat_minor": 2
}
